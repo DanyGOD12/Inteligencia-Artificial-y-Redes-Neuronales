{
  "nbformat": 4,
  "nbformat_minor": 0,
  "metadata": {
    "colab": {
      "provenance": [],
      "collapsed_sections": []
    },
    "kernelspec": {
      "name": "python3",
      "display_name": "Python 3"
    },
    "language_info": {
      "name": "python"
    }
  },
  "cells": [
    {
      "cell_type": "markdown",
      "source": [
        "Rarmiro Daniel Gonzalez Rodriguez 1929079 IMTC N1 Inteligencia Artificial  Actividad # 2\n",
        "\n",
        "```\n",
        "\n"
      ],
      "metadata": {
        "id": "xz-xa0y_4-eg"
      }
    },
    {
      "cell_type": "code",
      "execution_count": 1,
      "metadata": {
        "colab": {
          "base_uri": "https://localhost:8080/"
        },
        "id": "VvfREwra3rm9",
        "outputId": "8a0f2a5e-fb2a-40b1-879d-38b337b20a1a"
      },
      "outputs": [
        {
          "output_type": "stream",
          "name": "stdout",
          "text": [
            "introduce tu nombredaniel\n",
            "hola daniel!\n"
          ]
        }
      ],
      "source": [
        "#Problema 1\n",
        "nombre = input (\"introduce tu nombre\")\n",
        "print(\"hola \" + nombre + \"!\")\n"
      ]
    },
    {
      "cell_type": "code",
      "source": [],
      "metadata": {
        "id": "NZF_YVxb5UVP"
      },
      "execution_count": null,
      "outputs": []
    },
    {
      "cell_type": "code",
      "source": [
        "#Problema 2\n",
        "numeros = (1,2,3,4,5,6,7,8,9) \n",
        "print(numeros)\n",
        "reverse =list ()\n",
        "for n in numeros :\n",
        "    reverse = [n] + reverse \n",
        "print(reverse)"
      ],
      "metadata": {
        "colab": {
          "base_uri": "https://localhost:8080/"
        },
        "id": "zGA5TqZt4hzR",
        "outputId": "2976f00e-4362-46d1-9374-cd444ddc2ac3"
      },
      "execution_count": 2,
      "outputs": [
        {
          "output_type": "stream",
          "name": "stdout",
          "text": [
            "(1, 2, 3, 4, 5, 6, 7, 8, 9)\n",
            "[9, 8, 7, 6, 5, 4, 3, 2, 1]\n"
          ]
        }
      ]
    },
    {
      "cell_type": "code",
      "source": [
        "#Problema 3\n",
        "lista = (\"hola\",\"este\",\"es\",\"un\",\"ejemplo\")\n",
        "indice = 0\n",
        "while indice <=4:\n",
        "    print (lista[indice])\n",
        "    indice = indice + 1"
      ],
      "metadata": {
        "colab": {
          "base_uri": "https://localhost:8080/"
        },
        "id": "CzJOutR-40EG",
        "outputId": "a4c5b446-f6cf-4729-a41a-4081ee37660c"
      },
      "execution_count": 3,
      "outputs": [
        {
          "output_type": "stream",
          "name": "stdout",
          "text": [
            "hola\n",
            "este\n",
            "es\n",
            "un\n",
            "ejemplo\n"
          ]
        }
      ]
    }
  ]
}